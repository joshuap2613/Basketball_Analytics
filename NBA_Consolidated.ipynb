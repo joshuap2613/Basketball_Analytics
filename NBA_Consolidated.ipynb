{
 "cells": [
  {
   "cell_type": "markdown",
   "metadata": {},
   "source": [
    "# NBA Basketball Analytics\n",
    "### Split up into 3 stages: \n",
    "#### 1) Data Collection: Gathering Data from sources such as  Kaggle and crawling NBAReference and Consolidating informaation\n",
    "#### 2) Using various techniques such as XG-Boost, Rating System, and general logistic regression to predict outcome, spread, and over/under\n",
    "#### 3) Backtesting and comparing to Historical Odds to project profitibility"
   ]
  },
  {
   "cell_type": "markdown",
   "metadata": {},
   "source": [
    "## 1. Data Collection\n",
    "First search for data from open sources online such as Kaggle"
   ]
  },
  {
   "cell_type": "code",
   "execution_count": null,
   "metadata": {},
   "outputs": [],
   "source": []
  }
 ],
 "metadata": {
  "kernelspec": {
   "display_name": "Python 3",
   "language": "python",
   "name": "python3"
  },
  "language_info": {
   "codemirror_mode": {
    "name": "ipython",
    "version": 3
   },
   "file_extension": ".py",
   "mimetype": "text/x-python",
   "name": "python",
   "nbconvert_exporter": "python",
   "pygments_lexer": "ipython3",
   "version": "3.7.2"
  }
 },
 "nbformat": 4,
 "nbformat_minor": 2
}
